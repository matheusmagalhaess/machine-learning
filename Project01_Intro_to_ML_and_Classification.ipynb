{
  "nbformat": 4,
  "nbformat_minor": 0,
  "metadata": {
    "colab": {
      "name": "Project01 - Intro to ML and Classification.ipynb",
      "provenance": [],
      "authorship_tag": "ABX9TyPQG0N7cVuNTB6SF3jSMz/Y",
      "include_colab_link": true
    },
    "kernelspec": {
      "name": "python3",
      "display_name": "Python 3"
    },
    "language_info": {
      "name": "python"
    }
  },
  "cells": [
    {
      "cell_type": "markdown",
      "metadata": {
        "id": "view-in-github",
        "colab_type": "text"
      },
      "source": [
        "<a href=\"https://colab.research.google.com/github/matheusmagalhaess/machine-learning/blob/main/Project01_Intro_to_ML_and_Classification.ipynb\" target=\"_parent\"><img src=\"https://colab.research.google.com/assets/colab-badge.svg\" alt=\"Open In Colab\"/></a>"
      ]
    },
    {
      "cell_type": "markdown",
      "metadata": {
        "id": "VzdQ7vLzez6W"
      },
      "source": [
        "# Intro\n",
        "This is the first project of ML course. I will classify animals between dogs and pigs. \n",
        "\n",
        "Classes will be '0' or '1\".\n",
        "\n",
        "Features used in this project: <br>\n",
        "1. Lenght of fur <br>\n",
        "2. Au au? <br>\n",
        "3. Lenght of leg <br>\n",
        "\n",
        "The accuracy of the results depends on the how our estimator was trained. \n",
        "\n",
        "The basic steps are:\n",
        "\n",
        "- FeaturesTraining Algorithms;\n",
        "Define features of what we want to classify;\n",
        "Sort into categories;\n",
        "Use linearSVC module and accuracy_score;\n",
        "Use the adjustment method;\n",
        "Predict data with a predict function;\n",
        "Calculate the model hit rate;\n",
        "Comparison of testicles and derivatives;\n",
        "Use the sum function;\n",
        "Standardize variables ;.\n",
        "- Itens\n",
        "- Estimator trainning \n",
        "- Tests\n",
        "- Rate of success\n",
        "- Optimization\n",
        "- Forecast\n",
        "\n",
        "In this project I learned:\n",
        "- Training Algorithms;\n",
        "- Define features of what we want to classify;\n",
        "- Sort into categories;\n",
        "- Use linearSVC module and accuracy_score;\n",
        "- Use the adjustment method;\n",
        "- Predict data with a predict function;\n",
        "- Calculate the model hit rate;\n",
        "- Comparison of testicles and derivatives;\n",
        "- Use the sum function;\n",
        "- Standardize variables ;."
      ]
    },
    {
      "cell_type": "code",
      "metadata": {
        "id": "AIqoHLIrt1zv"
      },
      "source": [
        ""
      ],
      "execution_count": null,
      "outputs": []
    },
    {
      "cell_type": "code",
      "metadata": {
        "id": "RV1ENOxQd5jZ"
      },
      "source": [
        "# features\n",
        "# feature 01: pelo longo?\n",
        "# feature 02: perna curta?\n",
        "# feature 03: faz au au?\n",
        "# 1 to yes \n",
        "# 0 to no\n",
        "\n",
        "#data\n",
        "porco1 = [0, 1, 0]\n",
        "porco2 = [0, 1, 1]\n",
        "porco3 = [1, 1, 0]\n",
        "\n",
        "cachorro1 = [0, 0, 1]\n",
        "cachorro2 = [1, 0, 1]\n",
        "cachorro3 = [1, 1, 1]\n",
        "\n",
        "#classes\n",
        "# 1 >> porco\n",
        "# 0 >> cachorro\n",
        "treino_x = [porco1, porco2, porco3, cachorro1, cachorro2, cachorro3]\n",
        "treino_y = [1,1,1,0,0,0] # labels / etiqueta"
      ],
      "execution_count": 1,
      "outputs": []
    },
    {
      "cell_type": "code",
      "metadata": {
        "colab": {
          "base_uri": "https://localhost:8080/"
        },
        "id": "4VqJxUkfiPNx",
        "outputId": "6abec542-9da3-4693-d307-c43e85c43b7d"
      },
      "source": [
        "# scikitlearning \n",
        "\n",
        "from sklearn.svm import LinearSVC\n",
        "\n",
        "model = LinearSVC()\n",
        "# aprendizado supervisionado\n",
        "model.fit(treino_x, treino_y)"
      ],
      "execution_count": 2,
      "outputs": [
        {
          "output_type": "execute_result",
          "data": {
            "text/plain": [
              "LinearSVC(C=1.0, class_weight=None, dual=True, fit_intercept=True,\n",
              "          intercept_scaling=1, loss='squared_hinge', max_iter=1000,\n",
              "          multi_class='ovr', penalty='l2', random_state=None, tol=0.0001,\n",
              "          verbose=0)"
            ]
          },
          "metadata": {},
          "execution_count": 2
        }
      ]
    },
    {
      "cell_type": "code",
      "metadata": {
        "colab": {
          "base_uri": "https://localhost:8080/"
        },
        "id": "EnbFju3HjVoh",
        "outputId": "88a281c7-8a56-4119-dacc-4f95ef78580a"
      },
      "source": [
        "animal_misterioso = [1,1,1]\n",
        "model.predict([animal_misterioso])"
      ],
      "execution_count": 3,
      "outputs": [
        {
          "output_type": "execute_result",
          "data": {
            "text/plain": [
              "array([0])"
            ]
          },
          "metadata": {},
          "execution_count": 3
        }
      ]
    },
    {
      "cell_type": "code",
      "metadata": {
        "id": "NaYDSDczjg-M"
      },
      "source": [
        "misterio1 = [1,1,1]\n",
        "misterio2 = [1,1,0]\n",
        "misterio3 = [0,1,1]\n",
        "teste_x = [misterio1, misterio2, misterio3]\n",
        "teste_y = [0,1,1]\n"
      ],
      "execution_count": 4,
      "outputs": []
    },
    {
      "cell_type": "code",
      "metadata": {
        "id": "-Is5D8RDqHWu"
      },
      "source": [
        "previsoes = model.predict(teste_x)"
      ],
      "execution_count": 5,
      "outputs": []
    },
    {
      "cell_type": "code",
      "metadata": {
        "id": "nY8vdsTSkxEv"
      },
      "source": [
        "acertos = (previsoes ==  teste_y).sum()"
      ],
      "execution_count": 6,
      "outputs": []
    },
    {
      "cell_type": "code",
      "metadata": {
        "colab": {
          "base_uri": "https://localhost:8080/"
        },
        "id": "k5_7Y0eqlSMA",
        "outputId": "06c38409-7135-45eb-a130-10ab9fafcf8c"
      },
      "source": [
        "total = len(teste_x)\n",
        "taxa_de_acerto = acertos/total\n",
        "print(\"Taxa de acerto: %.2f \" % (taxa_de_acerto*100), \"%\" )\n"
      ],
      "execution_count": 13,
      "outputs": [
        {
          "output_type": "stream",
          "name": "stdout",
          "text": [
            "Taxa de acerto: 100.00  %\n"
          ]
        }
      ]
    },
    {
      "cell_type": "code",
      "metadata": {
        "colab": {
          "base_uri": "https://localhost:8080/"
        },
        "id": "6rNbdcDRl2nk",
        "outputId": "7eb038e7-041b-4f68-ad4b-2454fdf6aaa1"
      },
      "source": [
        "# Scikitlearn has a library that contains the accuracy \n",
        "\n",
        "from sklearn.metrics import accuracy_score\n",
        "\n",
        "taxa_de_acerto = accuracy_score(teste_y, previsoes)\n",
        "print(\"Taxa de acerto: %.2f \" % (taxa_de_acerto*100), \"%\")\n"
      ],
      "execution_count": 12,
      "outputs": [
        {
          "output_type": "stream",
          "name": "stdout",
          "text": [
            "Taxa de acerto: 100.00  %\n"
          ]
        }
      ]
    }
  ]
}