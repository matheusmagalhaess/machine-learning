{
  "nbformat": 4,
  "nbformat_minor": 0,
  "metadata": {
    "colab": {
      "name": "Project02 - Intro to ML and Classification.ipynb.ipynb",
      "provenance": [],
      "authorship_tag": "ABX9TyN97A2vR3Tc23d0n/5usEzH",
      "include_colab_link": true
    },
    "kernelspec": {
      "name": "python3",
      "display_name": "Python 3"
    },
    "language_info": {
      "name": "python"
    }
  },
  "cells": [
    {
      "cell_type": "markdown",
      "metadata": {
        "id": "view-in-github",
        "colab_type": "text"
      },
      "source": [
        "<a href=\"https://colab.research.google.com/github/matheusmagalhaess/machine-learning/blob/main/Project02_Intro_to_ML_and_Classification_ipynb.ipynb\" target=\"_parent\"><img src=\"https://colab.research.google.com/assets/colab-badge.svg\" alt=\"Open In Colab\"/></a>"
      ]
    },
    {
      "cell_type": "markdown",
      "metadata": {
        "id": "oMjQvqnkYmIM"
      },
      "source": [
        "# Intro\n",
        "\n",
        "What I learned in this project:\n",
        "- Open CSV file;\n",
        "- Print the first lines with the head function;\n",
        "- Rename the columns;\n",
        "- Use the shape function to see the number of elements;\n",
        "- Separate data for training and testing;\n",
        "- Set the order for random numbers;\n",
        "- Use the value_counts function."
      ]
    },
    {
      "cell_type": "code",
      "metadata": {
        "colab": {
          "base_uri": "https://localhost:8080/",
          "height": 204
        },
        "id": "hhUzGAjZvQqK",
        "outputId": "f6e9010c-435a-470d-b388-d6919bdbded4"
      },
      "source": [
        "import pandas as pd\n",
        "\n",
        "uri = \"https://gist.githubusercontent.com/guilhermesilveira/2d2efa37d66b6c84a722ea627a897ced/raw/10968b997d885cbded1c92938c7a9912ba41c615/tracking.csv\"\n",
        " \n",
        "dados = pd.read_csv(uri)\n",
        "dados.head() # print just the first 5 lines\n"
      ],
      "execution_count": 2,
      "outputs": [
        {
          "output_type": "execute_result",
          "data": {
            "text/html": [
              "<div>\n",
              "<style scoped>\n",
              "    .dataframe tbody tr th:only-of-type {\n",
              "        vertical-align: middle;\n",
              "    }\n",
              "\n",
              "    .dataframe tbody tr th {\n",
              "        vertical-align: top;\n",
              "    }\n",
              "\n",
              "    .dataframe thead th {\n",
              "        text-align: right;\n",
              "    }\n",
              "</style>\n",
              "<table border=\"1\" class=\"dataframe\">\n",
              "  <thead>\n",
              "    <tr style=\"text-align: right;\">\n",
              "      <th></th>\n",
              "      <th>home</th>\n",
              "      <th>how_it_works</th>\n",
              "      <th>contact</th>\n",
              "      <th>bought</th>\n",
              "    </tr>\n",
              "  </thead>\n",
              "  <tbody>\n",
              "    <tr>\n",
              "      <th>0</th>\n",
              "      <td>1</td>\n",
              "      <td>1</td>\n",
              "      <td>0</td>\n",
              "      <td>0</td>\n",
              "    </tr>\n",
              "    <tr>\n",
              "      <th>1</th>\n",
              "      <td>1</td>\n",
              "      <td>1</td>\n",
              "      <td>0</td>\n",
              "      <td>0</td>\n",
              "    </tr>\n",
              "    <tr>\n",
              "      <th>2</th>\n",
              "      <td>1</td>\n",
              "      <td>1</td>\n",
              "      <td>0</td>\n",
              "      <td>0</td>\n",
              "    </tr>\n",
              "    <tr>\n",
              "      <th>3</th>\n",
              "      <td>1</td>\n",
              "      <td>1</td>\n",
              "      <td>0</td>\n",
              "      <td>0</td>\n",
              "    </tr>\n",
              "    <tr>\n",
              "      <th>4</th>\n",
              "      <td>1</td>\n",
              "      <td>1</td>\n",
              "      <td>0</td>\n",
              "      <td>0</td>\n",
              "    </tr>\n",
              "  </tbody>\n",
              "</table>\n",
              "</div>"
            ],
            "text/plain": [
              "   home  how_it_works  contact  bought\n",
              "0     1             1        0       0\n",
              "1     1             1        0       0\n",
              "2     1             1        0       0\n",
              "3     1             1        0       0\n",
              "4     1             1        0       0"
            ]
          },
          "metadata": {},
          "execution_count": 2
        }
      ]
    },
    {
      "cell_type": "code",
      "metadata": {
        "id": "3g0bHkkswaZW"
      },
      "source": [
        "mapa = {\n",
        "    \"home\" : \"principal\",\n",
        "    \"how_it_works\" : \"como_funciona\",\n",
        "    \"contact\" : \"contato\",\n",
        "    \"bought\" : \"comprou\"\n",
        "}\n",
        "\n",
        "dados = dados.rename(columns = mapa)"
      ],
      "execution_count": 6,
      "outputs": []
    },
    {
      "cell_type": "code",
      "metadata": {
        "id": "4do780VUvkmD"
      },
      "source": [
        "# The first 3 columns are the x data and the last column is the y data\n",
        "# Let's select just the X data\n",
        "\n",
        "x = dados[[\"principal\", \"como-funciona\", \"contato\"]] #dados[array[list]]\n",
        "y = dados[\"comprou\"]"
      ],
      "execution_count": 3,
      "outputs": []
    },
    {
      "cell_type": "code",
      "metadata": {
        "colab": {
          "base_uri": "https://localhost:8080/"
        },
        "id": "TARTro5LxEqE",
        "outputId": "25a3a198-ed7a-43a9-ccc6-12af2d45f0fa"
      },
      "source": [
        "dados.shape"
      ],
      "execution_count": 7,
      "outputs": [
        {
          "output_type": "execute_result",
          "data": {
            "text/plain": [
              "(99, 4)"
            ]
          },
          "metadata": {},
          "execution_count": 7
        }
      ]
    },
    {
      "cell_type": "code",
      "metadata": {
        "colab": {
          "base_uri": "https://localhost:8080/"
        },
        "id": "vgSd916yyQAr",
        "outputId": "f4b537c1-7df9-4b3e-8f9d-a68120fc46a6"
      },
      "source": [
        "treino_x = x[:75]\n",
        "treino_y = y[:75]\n",
        "teste_x = x[75:]\n",
        "teste_y = y[75:]\n",
        "\n",
        "print(\"Treinaremos com %d elementos e testaremos %d elementos\" % (len(treino_x), len(teste_x))) "
      ],
      "execution_count": 11,
      "outputs": [
        {
          "output_type": "stream",
          "name": "stdout",
          "text": [
            "Treinaremos com 75 elementos e testaremos 24 elementos\n"
          ]
        }
      ]
    },
    {
      "cell_type": "code",
      "metadata": {
        "colab": {
          "base_uri": "https://localhost:8080/"
        },
        "id": "MbfZw7VxJDun",
        "outputId": "4cb3de99-038a-4875-ca75-30c07d97cba5"
      },
      "source": [
        "# Trainning the algorithm\n",
        "\n",
        "from sklearn.svm import LinearSVC\n",
        "from sklearn.metrics import accuracy_score\n",
        "\n",
        "modelo = LinearSVC()\n",
        "modelo.fit(treino_x, treino_y)\n",
        "previsoes = modelo.predict(teste_x)\n",
        "taxa_de_acerto = accuracy_score(teste_y,previsoes) * 100\n",
        "\n",
        "print(\"A taxa de acerto é de: %.2f%%\" % taxa_de_acerto)\n"
      ],
      "execution_count": 20,
      "outputs": [
        {
          "output_type": "stream",
          "name": "stdout",
          "text": [
            "A taxa de acerto é de: 95.83%\n"
          ]
        }
      ]
    },
    {
      "cell_type": "markdown",
      "metadata": {
        "id": "pu_plQk3QZqp"
      },
      "source": [
        "# Using the train_test_split function"
      ]
    },
    {
      "cell_type": "code",
      "metadata": {
        "colab": {
          "base_uri": "https://localhost:8080/"
        },
        "id": "g4sgQhnoLx3S",
        "outputId": "a9201535-7a1f-4735-8ac6-fd3fb63800b7"
      },
      "source": [
        "# the code below is a tool to simplify the method of train and test de data\n",
        "# lets import a function of sklearn\n",
        "\n",
        "from sklearn.svm import LinearSVC\n",
        "from sklearn.metrics import accuracy_score\n",
        "from sklearn.model_selection import train_test_split\n",
        "\n",
        "SEED = 20 # very important\n",
        "\n",
        "print(\"Initializing the trainning...\")\n",
        "\n",
        "treino_x, teste_x, treino_y, teste_y = train_test_split(x,y,random_state = SEED, test_size = 0.25)\n",
        "\n",
        "print(\"Treinaremos com %d elementos e testaremos %d elementos\" % (len(treino_x), len(teste_x))) \n",
        "\n",
        "modelo = LinearSVC()\n",
        "modelo.fit(treino_x, treino_y)\n",
        "previsoes = modelo.predict(teste_x)\n",
        "taxa_de_acerto = accuracy_score(teste_y,previsoes) * 100\n",
        "\n",
        "print(\"A taxa de acerto é de: %.2f%%\" % taxa_de_acerto)\n",
        "\n"
      ],
      "execution_count": 26,
      "outputs": [
        {
          "output_type": "stream",
          "name": "stdout",
          "text": [
            "Initializing the trainning...\n",
            "Treinaremos com 74 elementos e testaremos 25 elementos\n",
            "A taxa de acerto é de: 96.00%\n"
          ]
        }
      ]
    },
    {
      "cell_type": "code",
      "metadata": {
        "colab": {
          "base_uri": "https://localhost:8080/"
        },
        "id": "pRqCDESfQJDv",
        "outputId": "466f8bc6-6da3-4e28-e321-dbf4d8bcfa24"
      },
      "source": [
        "from sklearn.svm import LinearSVC\n",
        "from sklearn.metrics import accuracy_score\n",
        "from sklearn.model_selection import train_test_split\n",
        "\n",
        "SEED = 20 # very important\n",
        "\n",
        "print(\"Initializing the trainning...\")\n",
        "\n",
        "treino_x, teste_x, treino_y, teste_y = train_test_split(x,y,random_state = SEED, test_size = 0.25,\n",
        "                                                        stratify = y)\n",
        "\n",
        "print(\"Treinaremos com %d elementos e testaremos %d elementos\" % (len(treino_x), len(teste_x))) \n",
        "\n",
        "modelo = LinearSVC()\n",
        "modelo.fit(treino_x, treino_y)\n",
        "previsoes = modelo.predict(teste_x)\n",
        "taxa_de_acerto = accuracy_score(teste_y,previsoes) * 100\n",
        "\n",
        "print(\"A taxa de acerto é de: %.2f%%\" % taxa_de_acerto)\n"
      ],
      "execution_count": 27,
      "outputs": [
        {
          "output_type": "execute_result",
          "data": {
            "text/plain": [
              "21    0\n",
              "1     0\n",
              "96    0\n",
              "69    0\n",
              "19    0\n",
              "     ..\n",
              "98    0\n",
              "28    0\n",
              "95    1\n",
              "15    0\n",
              "90    1\n",
              "Name: bought, Length: 74, dtype: int64"
            ]
          },
          "metadata": {},
          "execution_count": 27
        }
      ]
    },
    {
      "cell_type": "code",
      "metadata": {
        "id": "ci_c5ZalREHi"
      },
      "source": [
        ""
      ],
      "execution_count": null,
      "outputs": []
    }
  ]
}